{
 "cells": [
  {
   "cell_type": "code",
   "execution_count": 6,
   "metadata": {},
   "outputs": [],
   "source": [
    "import matplotlib   # library for plotting\n",
    "import matplotlib.pyplot as plt #  later you will type plt.$COMMAND\n",
    "import numpy as np   # basic math library  you will type np.$STUFF  e.g., np.cos(1)\n",
    "import pandas as pd  # library for data analysis for text files (everything but netcdf files)\n",
    "import scipy.stats as stats # imports stats functions https://docs.scipy.org/doc/scipy/reference/stats.html \n",
    "from netCDF4 import Dataset"
   ]
  },
  {
   "cell_type": "markdown",
   "metadata": {},
   "source": [
    "Question 1a:"
   ]
  },
  {
   "cell_type": "code",
   "execution_count": 7,
   "metadata": {},
   "outputs": [
    {
     "name": "stdout",
     "output_type": "stream",
     "text": [
      "The probability that the friend was actually negative is 97.3%\n"
     ]
    }
   ],
   "source": [
    "# Define variables\n",
    "negrate = 0.9 # Background negative rate\n",
    "posrate = 0.1 # Background positive rate\n",
    "accrate = 0.8 # Percentage of covid tests that are correct\n",
    "failrate = 0.2 # Percentage of covid tests that are incorrect\n",
    "test_result = 'negative'\n",
    "def Bayes(negrate,posrate,accrate,failrate):\n",
    "    Pr_true_result = (negrate*accrate)/(negrate*accrate + posrate*failrate)\n",
    "    return Pr_true_result*100\n",
    "answer = Bayes(negrate,posrate,accrate,failrate)\n",
    "print(\"The probability that the friend was actually negative is \" + str(np.round(answer,2)) + \"%\")"
   ]
  },
  {
   "cell_type": "markdown",
   "metadata": {},
   "source": [
    "Reasoning: Covid tests are accurate 80% of the time, but the background rate must also be considered. 90% of people do not have covid, so it is even more likely that the friend does not have covid when they tested negative. Bayes theorem factors in this information and tells us that the chance of the friend being negative is 97.3%."
   ]
  },
  {
   "cell_type": "markdown",
   "metadata": {},
   "source": [
    "Question 1b:\n",
    "\n",
    "\n",
    "5 steps:\n",
    "\n",
    "1. State the significance level (alpha): .05, .01\n",
    "2. State the null hypothesis H0 and the alternative H1: H0: The sample mean is not significantly different from 0. H1: The sample mean is significantly different from 0.\n",
    "3. State the statistic to be used and the assumptions required to use it: z statistic, assume normal distribution\n",
    "4. State the critical region: -1.96 < z < 1.96, -2.58 < z < 2.58\n",
    "5. Evaluate the statistic and state the conclusion: \n"
   ]
  },
  {
   "cell_type": "code",
   "execution_count": 8,
   "metadata": {},
   "outputs": [
    {
     "name": "stdout",
     "output_type": "stream",
     "text": [
      "95% confidence, N = 15: We cannot reject the null hypothesis\n",
      "99% confidence, N = 15: We cannot reject the null hypothesis\n",
      "95% confidence, N = 1000: We can reject the null hypothesis\n",
      "99% confidence, N = 1000: We can reject the null hypothesis\n"
     ]
    }
   ],
   "source": [
    "N = 15\n",
    "values = np.random.randn(N)\n",
    "sigma = 1\n",
    "mean = 0\n",
    "sample_mean = np.mean(values)\n",
    "def z_statistic(mean,sample_mean,sigma,N):\n",
    "    z = (sample_mean - mean)/(sigma/(np.sqrt(N)))\n",
    "    return z\n",
    "z = z_statistic(mean,sample_mean,sigma,N)\n",
    "if -1.96 < z < 1.96:\n",
    "    print(\"95% confidence, N = 15: We cannot reject the null hypothesis\")\n",
    "else:\n",
    "    print(\"95% confidence, N = 15: We can reject the null hypothesis\")\n",
    "if -2.58 < z < 2.58:\n",
    "    print(\"99% confidence, N = 15: We cannot reject the null hypothesis\")\n",
    "else:\n",
    "    print(\"99% confidence, N = 15: We can reject the null hypothesis\")\n",
    "N = 1000\n",
    "z = z_statistic(mean,sample_mean,sigma,N)\n",
    "if -1.96 < z < 1.96:\n",
    "    print(\"95% confidence, N = 1000: We cannot reject the null hypothesis\")\n",
    "else:\n",
    "    print(\"95% confidence, N = 1000: We can reject the null hypothesis\")\n",
    "if -2.58 < z < 2.58:\n",
    "    print(\"99% confidence, N = 1000: We cannot reject the null hypothesis\")\n",
    "else:\n",
    "    print(\"99% confidence, N = 1000: We can reject the null hypothesis\")"
   ]
  },
  {
   "cell_type": "markdown",
   "metadata": {},
   "source": [
    "Question 1c:\n",
    "I will be taking integrated water vapor (IWV) data from the HadAM4 historical climate simulation that uses radiative forcing from 2006. I will find the ensemble member with the highest mean IWV and perform a z test to see if that ensemble member mean IWV is significantly higher than mean IWV from the ensemble member with the lowest mean IWV. \n",
    "\n",
    "5 steps:\n",
    "\n",
    "alpha = .05\n",
    "\n",
    "H0: the sample mean with the maximum mean IWV is not significantly higher than the sample mean with the lowest mean IWV.\n",
    "\n",
    "H1: the sample mean with the maximum mean IWV is significantly higher than the sample mean with the lowest mean IWV.\n",
    "\n",
    "z statistic, assume normal distribution of daily mean IWV\n",
    "\n",
    "critical region: z < 1.65\n",
    "\n",
    "Evaluation below"
   ]
  },
  {
   "cell_type": "code",
   "execution_count": 9,
   "metadata": {},
   "outputs": [
    {
     "name": "stdout",
     "output_type": "stream",
     "text": [
      "(array([29]),)\n",
      "(array([27]),)\n"
     ]
    }
   ],
   "source": [
    "# Step 1: Load in data and locate ensemble member with highest mean IWV\n",
    "filename = 'hist_06.nc'\n",
    "IWV = Dataset(filename).variables['TMQ'][:] # Already converted from TMQ to IWV by taking mass-weighted mean specific humidity and multiplying by (surface pressure / g)\n",
    "i = 0\n",
    "ensemblemeans = np.zeros(IWV.shape[0])\n",
    "while i < IWV.shape[0]: # number of ensemble members\n",
    "    ensemblemeans[i] = np.mean(IWV[i,:,:,:])\n",
    "    i+=1\n",
    "maxensemble = np.where(ensemblemeans == np.max(ensemblemeans))\n",
    "minensemble = np.where(ensemblemeans == np.min(ensemblemeans))\n",
    "print(maxensemble)\n",
    "print(minensemble)"
   ]
  },
  {
   "cell_type": "markdown",
   "metadata": {},
   "source": [
    "We find that the 30th ensemble member has the highest mean IWV and the 28th ensemble member has the lowest mean IWV."
   ]
  },
  {
   "cell_type": "code",
   "execution_count": 10,
   "metadata": {},
   "outputs": [
    {
     "name": "stdout",
     "output_type": "stream",
     "text": [
      "95% confidence: We can reject the null hypothesis\n"
     ]
    }
   ],
   "source": [
    "# Step 2: Calculate variables required in z test and run z test\n",
    "def z_statistic_sample(sample_mean1,sample_mean2,sigma1,sigma2,N1,N2):\n",
    "    z = (sample_mean1 - sample_mean2)/np.sqrt(((sigma1*sigma1)/N1)+(sigma2*sigma2)/N2)\n",
    "    return z\n",
    "dailymean1 = np.zeros(120)\n",
    "dailymean2 = np.zeros(120)\n",
    "i = 0\n",
    "while i < 120:\n",
    "    dailymean1[i] = np.mean(IWV[29,i*4:(i*4 + 4),:,:]) # 6 hourly temporal resolution\n",
    "    dailymean2[i] = np.mean(IWV[27,i*4:(i*4 + 4),:,:])\n",
    "    i+=1\n",
    "sample_mean1 = np.mean(dailymean1)\n",
    "sample_mean2 = np.mean(dailymean2)\n",
    "sigma1 = np.std(dailymean1)\n",
    "sigma2 = np.std(dailymean2)\n",
    "N1 = len(dailymean1)\n",
    "N2 = len(dailymean2)\n",
    "z = z_statistic_sample(sample_mean1,sample_mean2,sigma1,sigma2,N1,N2)\n",
    "if z < 1.65:\n",
    "    print(\"95% confidence: We cannot reject the null hypothesis\")\n",
    "else:\n",
    "    print(\"95% confidence: We can reject the null hypothesis\")"
   ]
  },
  {
   "cell_type": "markdown",
   "metadata": {},
   "source": [
    "Question 1d: \n",
    "\n",
    "5 steps:\n",
    "\n",
    "alpha = .05\n",
    "\n",
    "H0: the sample with the maximum mean IWV is not significantly higher than the ensemble mean IWV.\n",
    "\n",
    "H1: the sample mean with the maximum mean IWV is significantly higher than the ensemble mean IWV.\n",
    "\n",
    "z statistic, assume normal distribution of IWV\n",
    "\n",
    "critical region: z < 1.65\n",
    "\n",
    "Evaluation below"
   ]
  },
  {
   "cell_type": "code",
   "execution_count": 11,
   "metadata": {},
   "outputs": [
    {
     "name": "stdout",
     "output_type": "stream",
     "text": [
      "95% confidence: We can reject the null hypothesis\n"
     ]
    }
   ],
   "source": [
    "dailymean = np.zeros(int(np.size(IWV[:,:,0,0])/4))\n",
    "reshaped_IWV = np.reshape(IWV,[np.size(dailymean)*4,len(IWV[0,0,:,0]),len(IWV[0,0,0,:])])\n",
    "i = 0\n",
    "while i < len(dailymean):\n",
    "    dailymean[i] = np.mean(reshaped_IWV[i*4:(i*4 + 4),:,:])\n",
    "    i+=1\n",
    "\n",
    "mean = np.mean(dailymean[:])\n",
    "sigma = np.std(dailymean[:])\n",
    "z = z_statistic(mean,sample_mean1,sigma,N1)\n",
    "if z < 1.65:\n",
    "    print(\"95% confidence: We cannot reject the null hypothesis\")\n",
    "else:\n",
    "    print(\"95% confidence: We can reject the null hypothesis\")"
   ]
  },
  {
   "cell_type": "markdown",
   "metadata": {},
   "source": [
    "Question 1e: \n",
    "I will compare standard deviations between mean IWV in November-December of the first 51 ensemble members and mean IWV in January-February of the next 51 ensemble members\n",
    "\n",
    "H0: The ensemble variability is not different between November-December and January-February.\n",
    "\n",
    "H1: The ensemble variability is different between November-December and January-February"
   ]
  },
  {
   "cell_type": "code",
   "execution_count": 19,
   "metadata": {},
   "outputs": [
    {
     "name": "stdout",
     "output_type": "stream",
     "text": [
      "95% confidence: We can reject the null hypothesis\n"
     ]
    }
   ],
   "source": [
    "IWVnovdec = np.mean(IWV[0:61,0:240,:,:],axis=(1,2,3))\n",
    "IWVjanfeb = np.mean(IWV[61:122,240:480,:,:],axis=(1,2,3))\n",
    "sigma1 = np.std(IWVnovdec,axis=0)\n",
    "sigma2 = np.std(IWVjanfeb,axis=0)\n",
    "\n",
    "DF1 = 61 - 1\n",
    "DF2 = 61 - 1\n",
    "F = (sigma1*sigma1)/(sigma2*sigma2)\n",
    "if F < 1.5343:\n",
    "    print(\"95% confidence: We cannot reject the null hypothesis\")\n",
    "else:\n",
    "    print(\"95% confidence: We can reject the null hypothesis\")\n"
   ]
  },
  {
   "cell_type": "markdown",
   "metadata": {},
   "source": [
    "Question 2a:"
   ]
  },
  {
   "cell_type": "code",
   "execution_count": 149,
   "metadata": {},
   "outputs": [
    {
     "name": "stdout",
     "output_type": "stream",
     "text": [
      "The average pressure in Fort Collins in 2014 was 846.33 hPa\n",
      "The average pressure in Fort Collins in 2014 on rainy days was 846.82 hPa\n"
     ]
    }
   ],
   "source": [
    "### Read in the data\n",
    "filename='homework1_data.csv'\n",
    "data=pd.read_csv(filename,sep=',')\n",
    "R = data[\"R_inches\"]\n",
    "P = data[\"P_hPa\"]\n",
    "average_pressure = np.mean(P)\n",
    "print(\"The average pressure in Fort Collins in 2014 was \"+str(np.round(average_pressure,2))+\" hPa\")\n",
    "Rainyindex = np.where(R>0.01)\n",
    "Rainydaypressureavg = np.round(np.mean(P[Rainyindex[0][:]]),2)\n",
    "print(\"The average pressure in Fort Collins in 2014 on rainy days was \"+str(Rainydaypressureavg)+\" hPa\")"
   ]
  },
  {
   "cell_type": "markdown",
   "metadata": {},
   "source": [
    "Question 2b:\n",
    "\n",
    "H0: The pressure is not different when raining\n",
    "\n",
    "H1: The pressure is different when raining"
   ]
  },
  {
   "cell_type": "code",
   "execution_count": 158,
   "metadata": {},
   "outputs": [
    {
     "name": "stdout",
     "output_type": "stream",
     "text": [
      "z statistic: We cannot reject the null hypothesis\n",
      "t statistic: We cannot reject the null hypothesis\n"
     ]
    }
   ],
   "source": [
    "sigma = np.std(P)\n",
    "mean = np.mean(P)\n",
    "sample_mean = Rainydaypressureavg\n",
    "N = len(Rainyindex[0][:])\n",
    "z = z_statistic(mean,sample_mean,sigma,N)\n",
    "if -1.96 < z < 1.96:\n",
    "    print(\"z statistic: We cannot reject the null hypothesis\")\n",
    "else:\n",
    "    print(\"z statistic: We can reject the null hypothesis\")\n",
    "sample_sigma = np.std(P[Rainyindex[0][:]])\n",
    "def t_test(mean,sample_mean,sample_sigma,N):\n",
    "    t = (sample_mean - mean)/(sample_sigma/(np.sqrt(N-1)))\n",
    "    return t\n",
    "t = t_test(mean,sample_mean,sample_sigma,N)\n",
    "if -1.98 < t < 1.98:\n",
    "    print(\"t statistic: We cannot reject the null hypothesis\")\n",
    "else:\n",
    "    print(\"t statistic: We can reject the null hypothesis\")"
   ]
  },
  {
   "cell_type": "markdown",
   "metadata": {},
   "source": [
    "The z statistic is appropriate because N > 30"
   ]
  },
  {
   "cell_type": "markdown",
   "metadata": {},
   "source": [
    "Question 2c:"
   ]
  },
  {
   "cell_type": "code",
   "execution_count": 173,
   "metadata": {},
   "outputs": [
    {
     "name": "stdout",
     "output_type": "stream",
     "text": [
      "Minimum: 845.23\n",
      "Maximum: 847.61\n",
      "Mean: 846.33\n",
      "Standard Deviation: 0.35\n"
     ]
    },
    {
     "data": {
      "image/png": "[encoded data removed]",
      "text/plain": [
       "<Figure size 432x288 with 1 Axes>"
      ]
     },
     "metadata": {
      "needs_background": "light"
     },
     "output_type": "display_data"
    }
   ],
   "source": [
    "Nbs = 1000\n",
    "P_Bootstrap=np.empty((Nbs,len(P[Rainyindex[0][:]])))\n",
    "for ii in range(Nbs):\n",
    "    P_Bootstrap[ii,:]=np.random.choice(P,len(P[Rainyindex[0][:]]))\n",
    "P_Bootstrap_mean=np.mean(P_Bootstrap,axis=1)\n",
    "binsize = 0.1\n",
    "min4hist=np.round(np.min(P_Bootstrap_mean),1)-binsize\n",
    "max4hist=np.round(np.max(P_Bootstrap_mean),1)+binsize\n",
    "nbins=int((max4hist-min4hist)/binsize)\n",
    "\n",
    "plt.hist(P_Bootstrap_mean,nbins,edgecolor='black')\n",
    "plt.xlabel('Pressure (hPa)');\n",
    "plt.ylabel('Count');\n",
    "plt.title('Bootstrapped Randomly Selected Mean Pressure values');\n",
    "\n",
    "print(\"Minimum: \" + str(np.round(np.min(P_Bootstrap_mean),2)))\n",
    "print(\"Maximum: \" + str(np.round(np.max(P_Bootstrap_mean),2)))\n",
    "print(\"Mean: \" + str(np.round(np.mean(P_Bootstrap_mean),2)))\n",
    "print(\"Standard Deviation: \" + str(np.round(np.std(P_Bootstrap_mean),2)))\n"
   ]
  },
  {
   "cell_type": "code",
   "execution_count": 178,
   "metadata": {},
   "outputs": [
    {
     "name": "stdout",
     "output_type": "stream",
     "text": [
      "z statistic: We cannot reject the null hypothesis\n",
      "Probability of the mean value occuring by chance: 16.53%\n"
     ]
    }
   ],
   "source": [
    "mean = np.mean(P_Bootstrap_mean)\n",
    "sigma=np.std(P_Bootstrap_mean)\n",
    "N = 1\n",
    "z = z_statistic(mean,sample_mean,sigma,N)\n",
    "if -1.96 < z < 1.96:\n",
    "    print(\"z statistic: We cannot reject the null hypothesis\")\n",
    "else:\n",
    "    print(\"z statistic: We can reject the null hypothesis\")\n",
    "prob=(1-stats.norm.cdf(np.abs(z)))*2*100\n",
    "print(\"Probability of the mean value occuring by chance: \" + str(np.round(prob,2)) + \"%\")"
   ]
  },
  {
   "cell_type": "code",
   "execution_count": null,
   "metadata": {},
   "outputs": [],
   "source": []
  }
 ],
 "metadata": {
  "kernelspec": {
   "display_name": "Python [conda env:root] *",
   "language": "python",
   "name": "conda-root-py"
  },
  "language_info": {
   "codemirror_mode": {
    "name": "ipython",
    "version": 3
   },
   "file_extension": ".py",
   "mimetype": "text/x-python",
   "name": "python",
   "nbconvert_exporter": "python",
   "pygments_lexer": "ipython3",
   "version": "3.8.3"
  }
 },
 "nbformat": 4,
 "nbformat_minor": 4
}
