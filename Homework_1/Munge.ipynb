{
 "cells": [
  {
   "cell_type": "code",
   "execution_count": 2,
   "metadata": {},
   "outputs": [],
   "source": [
    "import matplotlib   # library for plotting\n",
    "import matplotlib.pyplot as plt #  later you will type plt.$COMMAND\n",
    "import numpy as np   # basic math library  you will type np.$STUFF  e.g., np.cos(1)\n",
    "import pandas as pd  # library for data analysis for text files (everything but netcdf files)\n",
    "import scipy.stats as stats # imports stats functions https://docs.scipy.org/doc/scipy/reference/stats.html \n",
    "from netCDF4 import Dataset\n",
    "import xarray as xr"
   ]
  },
  {
   "cell_type": "code",
   "execution_count": 15,
   "metadata": {},
   "outputs": [],
   "source": [
    "filename = '/Users/tihi9307/Downloads/hist_06.nc'\n",
    "ens = Dataset(filename).variables['ens'][:]\n",
    "time = Dataset(filename).variables['time'][:]\n",
    "precip = np.flip(Dataset(filename).variables['PRECT'][:],axis=2)\n",
    "PRECT = np.mean(precip,axis=(2,3))\n",
    "PRECT.shape\n",
    "da = xr.DataArray(data = PRECT, dims=['ens','time'],\n",
    "                           coords={'ens': list(ens[:]),\n",
    "                                    'time': list(time[:])},\n",
    "                                    name = \"PRECT\",\n",
    "attrs=dict(\n",
    "                                description=\"Precipitation rate\",\n",
    "                                units=\"m/s\"))\n",
    "da.to_netcdf(\"hadPrecip.nc\")"
   ]
  },
  {
   "cell_type": "code",
   "execution_count": null,
   "metadata": {},
   "outputs": [],
   "source": []
  }
 ],
 "metadata": {
  "kernelspec": {
   "display_name": "Python [conda env:root] *",
   "language": "python",
   "name": "conda-root-py"
  },
  "language_info": {
   "codemirror_mode": {
    "name": "ipython",
    "version": 3
   },
   "file_extension": ".py",
   "mimetype": "text/x-python",
   "name": "python",
   "nbconvert_exporter": "python",
   "pygments_lexer": "ipython3",
   "version": "3.8.3"
  }
 },
 "nbformat": 4,
 "nbformat_minor": 4
}
